{
  "nbformat": 4,
  "nbformat_minor": 0,
  "metadata": {
    "colab": {
      "name": "Tensor_basics.ipynb",
      "provenance": [],
      "collapsed_sections": [],
      "toc_visible": true
    },
    "kernelspec": {
      "name": "python3",
      "display_name": "Python 3"
    },
    "language_info": {
      "name": "python"
    }
  },
  "cells": [
    {
      "cell_type": "markdown",
      "metadata": {
        "id": "jI6b3zIjXwCf"
      },
      "source": [
        "# Tensor Basics\n",
        "\n",
        "This is a note book that goes over the basics of creating tensors and manipulating them.\n",
        "\n",
        "## What is a Tensor?\n",
        "\n",
        "- A tensor is an (multi dimensional) array that obeys some transformation rules. \n",
        "- Tensors are a linear function that describes an object in a co-ordinate system (using indcies).\n",
        "- When the co-ordinate system is updated (i.e another dimension is added). tensors can update themselves (they interact with the system).\n",
        "- Matricies cannot interact with the system (they are just like boxes to hold numbers in). \n",
        "- Tensors can be 0 rank like scalars, 1D like arrays, 2D like Matricies or n-D (multi dimensional).\n",
        "- Tensors can also contain other tensors.\n",
        "\n",
        "https://www.geeksforgeeks.org/differences-between-a-matrix-and-a-tensor/\n",
        "https://mathworld.wolfram.com/Tensor.html"
      ]
    },
    {
      "cell_type": "markdown",
      "metadata": {
        "id": "gMAlLKNTpr9M"
      },
      "source": [
        "*italicised text*# New section"
      ]
    },
    {
      "cell_type": "markdown",
      "metadata": {
        "id": "7vtVtArOpvQL"
      },
      "source": [
        "# Creating Tensors"
      ]
    },
    {
      "cell_type": "markdown",
      "metadata": {
        "id": "zHHH0_9mhYes"
      },
      "source": [
        "### Creating Tensors using tf.constant (immutable)"
      ]
    },
    {
      "cell_type": "code",
      "metadata": {
        "colab": {
          "base_uri": "https://localhost:8080/"
        },
        "id": "FiDYAfwShO5c",
        "outputId": "77adaef2-7f8e-4e00-a409-8e564a35b5c4"
      },
      "source": [
        "import tensorflow as tf\n",
        "print('tf version',tf.__version__)"
      ],
      "execution_count": 2,
      "outputs": [
        {
          "output_type": "stream",
          "name": "stdout",
          "text": [
            "tf version 2.6.0\n"
          ]
        }
      ]
    },
    {
      "cell_type": "code",
      "metadata": {
        "colab": {
          "base_uri": "https://localhost:8080/"
        },
        "id": "YFN9t5Mpioi4",
        "outputId": "9a1c7828-aca3-406e-bd00-e72dc7725069"
      },
      "source": [
        "scalar = tf.constant(7)\n",
        "print('\\nSCALAR\\nScalar info:', scalar, '\\nScalar dimensions', scalar.ndim)"
      ],
      "execution_count": null,
      "outputs": [
        {
          "output_type": "stream",
          "name": "stdout",
          "text": [
            "\n",
            "SCALAR\n",
            "Scalar info: tf.Tensor(7, shape=(), dtype=int32) \n",
            "Scalar dimensions 0\n"
          ]
        }
      ]
    },
    {
      "cell_type": "code",
      "metadata": {
        "colab": {
          "base_uri": "https://localhost:8080/"
        },
        "id": "PDTaFzMRjB_n",
        "outputId": "3bcbf50e-bc1a-4f08-dd93-a758416f7c12"
      },
      "source": [
        "#Create a vector\n",
        "vector = tf.constant([10,10])\n",
        "print('\\nVECTOR\\nvector info:', vector,'\\nvector dimensions', vector.ndim)"
      ],
      "execution_count": null,
      "outputs": [
        {
          "output_type": "stream",
          "name": "stdout",
          "text": [
            "\n",
            "VECTOR\n",
            "vector info: tf.Tensor([10 10], shape=(2,), dtype=int32) \n",
            "vector dimensions 1\n"
          ]
        }
      ]
    },
    {
      "cell_type": "code",
      "metadata": {
        "colab": {
          "base_uri": "https://localhost:8080/"
        },
        "id": "7_epjyRbjLvw",
        "outputId": "9f619483-8d21-495c-f549-cdf82e1b7bc6"
      },
      "source": [
        "#Create a matrix but as a float\n",
        "matrix = tf.constant([[10,10],\n",
        "                   [10,10]],dtype=tf.float16)\n",
        "print('\\nMATRIX\\nMatrix info:', matrix,'\\nMatrix dimensions:', matrix.ndim)"
      ],
      "execution_count": null,
      "outputs": [
        {
          "output_type": "stream",
          "name": "stdout",
          "text": [
            "\n",
            "MATRIX\n",
            "Matrix info: tf.Tensor(\n",
            "[[10. 10.]\n",
            " [10. 10.]], shape=(2, 2), dtype=float16) \n",
            "Matrix dimensions: 2\n"
          ]
        }
      ]
    },
    {
      "cell_type": "code",
      "metadata": {
        "id": "n_fC8JzVl36B"
      },
      "source": [
        "#Create a multi-dimensional tensor\n",
        "tensor = tf.constant([[[3,2,4],\n",
        "                      [4,5,10]],\n",
        "                      [[4,50,100],\n",
        "                      [300,400,400]],\n",
        "                      [[400,40,8],\n",
        "                       [600,700,800]]\n",
        "                      ])\n",
        "\n",
        "print('\\nTensor\\nTensor info:', tensor,'\\nTensor dimensions:', tensor.ndim)"
      ],
      "execution_count": null,
      "outputs": []
    },
    {
      "cell_type": "markdown",
      "metadata": {
        "id": "QUIsU2c_l8WM"
      },
      "source": [
        "### Creating tensors using tf.variable (mutable)"
      ]
    },
    {
      "cell_type": "code",
      "metadata": {
        "colab": {
          "base_uri": "https://localhost:8080/"
        },
        "id": "0p8LxjekjQ7a",
        "outputId": "6629c4ef-29a7-4875-ac05-ffb3f93c4fa9"
      },
      "source": [
        "tensor_var= tf.Variable([[[3,2,4],\n",
        "                      [4,5,10]],\n",
        "                      [[4,50,100],\n",
        "                      [300,400,400]],\n",
        "                      [[400,40,8],\n",
        "                       [600,700,800]]\n",
        "                      ])\n",
        "\n",
        "print('\\ntensor variable info:', tensor_var)\n",
        "\n",
        "tensor_var= tensor_var[0,0,0].assign(10)\n",
        "print('\\nUpdated tf variable:',tensor_var)"
      ],
      "execution_count": null,
      "outputs": [
        {
          "output_type": "stream",
          "name": "stdout",
          "text": [
            "\n",
            "tensor variable info: <tf.Variable 'Variable:0' shape=(3, 2, 3) dtype=int32, numpy=\n",
            "array([[[  3,   2,   4],\n",
            "        [  4,   5,  10]],\n",
            "\n",
            "       [[  4,  50, 100],\n",
            "        [300, 400, 400]],\n",
            "\n",
            "       [[400,  40,   8],\n",
            "        [600, 700, 800]]], dtype=int32)>\n",
            "\n",
            "Updated tf variable: <tf.Variable 'UnreadVariable' shape=(3, 2, 3) dtype=int32, numpy=\n",
            "array([[[ 10,   2,   4],\n",
            "        [  4,   5,  10]],\n",
            "\n",
            "       [[  4,  50, 100],\n",
            "        [300, 400, 400]],\n",
            "\n",
            "       [[400,  40,   8],\n",
            "        [600, 700, 800]]], dtype=int32)>\n"
          ]
        }
      ]
    },
    {
      "cell_type": "markdown",
      "metadata": {
        "id": "J06PS99zmeur"
      },
      "source": [
        "### Creating random tensors.\n",
        "\n",
        "This can done by setting a global random seed so that all the random tensors are the same.\n",
        "\n",
        "~~~\n",
        "tf.random.Generator.from_seed(seed=1)\n",
        "~~~\n",
        "\n",
        "Can also shuffle the order of the tensor as not to affect learning (global seed means all tensors are shuffled the same"
      ]
    },
    {
      "cell_type": "code",
      "metadata": {
        "colab": {
          "base_uri": "https://localhost:8080/"
        },
        "id": "cunPuWHQn4Ii",
        "outputId": "06f88612-2c9a-46dd-b78c-b2b10fdc5830"
      },
      "source": [
        "#Create random tensors from uniform distribution\n",
        "ran= tf.random.Generator.from_seed(seed=1) #THis sets the global seed and makes sure that random tensors are always the same each time the programme is run.\n",
        "ran= ran.normal(shape=(3,3,3))\n",
        "print('random tensor:', ran)"
      ],
      "execution_count": null,
      "outputs": [
        {
          "output_type": "stream",
          "name": "stdout",
          "text": [
            "random tensor: tf.Tensor(\n",
            "[[[ 0.43842274 -0.53439844 -0.07710262]\n",
            "  [ 1.5658046  -0.1012345  -0.2744976 ]\n",
            "  [ 1.4204658   1.2609464  -0.43640924]]\n",
            "\n",
            " [[-1.9633987  -0.06452483 -1.056841  ]\n",
            "  [ 1.0019137   0.6735137   0.06987712]\n",
            "  [-1.4077919   1.0278524   0.27974114]]\n",
            "\n",
            " [[-0.01347923  1.845181    0.97061104]\n",
            "  [-1.0242516  -0.6544423  -0.29738766]\n",
            "  [-1.3240396   0.28785667 -0.8757901 ]]], shape=(3, 3, 3), dtype=float32)\n"
          ]
        }
      ]
    },
    {
      "cell_type": "code",
      "metadata": {
        "colab": {
          "base_uri": "https://localhost:8080/"
        },
        "id": "h7D45w9Un9ue",
        "outputId": "f46e2ef7-452d-4725-c1cd-1185d930573d"
      },
      "source": [
        "#Shuffle order of tensor. Shuffles data so order doesn't affect learning.\n",
        "#Global seed means the tensor will be shuffled the same way each\n",
        "shuffle= tf.random.shuffle(ran,seed=1)\n",
        "print('\\nshuffled tensor:',shuffle)"
      ],
      "execution_count": null,
      "outputs": [
        {
          "output_type": "stream",
          "name": "stdout",
          "text": [
            "\n",
            "shuffled tensor: tf.Tensor(\n",
            "[[[ 0.43842274 -0.53439844 -0.07710262]\n",
            "  [ 1.5658046  -0.1012345  -0.2744976 ]\n",
            "  [ 1.4204658   1.2609464  -0.43640924]]\n",
            "\n",
            " [[-0.01347923  1.845181    0.97061104]\n",
            "  [-1.0242516  -0.6544423  -0.29738766]\n",
            "  [-1.3240396   0.28785667 -0.8757901 ]]\n",
            "\n",
            " [[-1.9633987  -0.06452483 -1.056841  ]\n",
            "  [ 1.0019137   0.6735137   0.06987712]\n",
            "  [-1.4077919   1.0278524   0.27974114]]], shape=(3, 3, 3), dtype=float32)\n"
          ]
        }
      ]
    },
    {
      "cell_type": "markdown",
      "metadata": {
        "id": "-fn-1SCDoEV0"
      },
      "source": [
        "### Create Tensors of ones and zeros"
      ]
    },
    {
      "cell_type": "code",
      "metadata": {
        "colab": {
          "base_uri": "https://localhost:8080/"
        },
        "id": "FDnSaJ9io1hS",
        "outputId": "b66c9d10-d084-4419-db21-68335a19d477"
      },
      "source": [
        "onestf=tf.ones([3,3,3])\n",
        "zerostf=tf.zeros([3,3,3])\n",
        "\n",
        "print(onestf,zerostf)"
      ],
      "execution_count": null,
      "outputs": [
        {
          "output_type": "stream",
          "name": "stdout",
          "text": [
            "tf.Tensor(\n",
            "[[[1. 1. 1.]\n",
            "  [1. 1. 1.]\n",
            "  [1. 1. 1.]]\n",
            "\n",
            " [[1. 1. 1.]\n",
            "  [1. 1. 1.]\n",
            "  [1. 1. 1.]]\n",
            "\n",
            " [[1. 1. 1.]\n",
            "  [1. 1. 1.]\n",
            "  [1. 1. 1.]]], shape=(3, 3, 3), dtype=float32) tf.Tensor(\n",
            "[[[0. 0. 0.]\n",
            "  [0. 0. 0.]\n",
            "  [0. 0. 0.]]\n",
            "\n",
            " [[0. 0. 0.]\n",
            "  [0. 0. 0.]\n",
            "  [0. 0. 0.]]\n",
            "\n",
            " [[0. 0. 0.]\n",
            "  [0. 0. 0.]\n",
            "  [0. 0. 0.]]], shape=(3, 3, 3), dtype=float32)\n"
          ]
        }
      ]
    },
    {
      "cell_type": "markdown",
      "metadata": {
        "id": "jx5IWtgNpB_K"
      },
      "source": [
        "### Create Tensors from numpy\n",
        "\n",
        "One advantage tensors have over numpy arrays is that tensors can be ran on GPU.\n",
        "\n",
        "**Remeber** tensor shape ***must*** equal the number of elements in the original array. "
      ]
    },
    {
      "cell_type": "code",
      "metadata": {
        "id": "A0mYq37upMTX"
      },
      "source": [
        "import numpy as np\n",
        "\n",
        "np_array=np.arange(1,25)\n",
        "tensor_from_numpy=tf.constant(np_array,shape=(2,3,4)) #shape must equal the number of elements in original array.\n",
        "print('\\nTensor from numpy:',tensor_from_numpy)"
      ],
      "execution_count": null,
      "outputs": []
    },
    {
      "cell_type": "markdown",
      "metadata": {
        "id": "4WORO4d4p-Oz"
      },
      "source": [
        "# Manipulating Tensors"
      ]
    },
    {
      "cell_type": "markdown",
      "metadata": {
        "id": "Co1sQq17qF4x"
      },
      "source": [
        "### Getting output from Tensors"
      ]
    },
    {
      "cell_type": "code",
      "metadata": {
        "id": "6s3Lp3_-rage"
      },
      "source": [
        "tensor_ones=tf.ones([3,3,3])\n"
      ],
      "execution_count": 3,
      "outputs": []
    },
    {
      "cell_type": "code",
      "metadata": {
        "colab": {
          "base_uri": "https://localhost:8080/"
        },
        "id": "3tddU0D7re6u",
        "outputId": "2baf5007-da4e-4a53-b926-95a65d9b2c45"
      },
      "source": [
        "print('\\nDatatye:', tensor_ones.dtype)\n",
        "print('\\nNumber of dimensions:', tensor_ones.ndim)"
      ],
      "execution_count": null,
      "outputs": [
        {
          "output_type": "stream",
          "name": "stdout",
          "text": [
            "\n",
            "Datatye: <dtype: 'float32'>\n",
            "\n",
            "Number of dimensions: 3\n"
          ]
        }
      ]
    },
    {
      "cell_type": "code",
      "metadata": {
        "colab": {
          "base_uri": "https://localhost:8080/"
        },
        "id": "izsI-_Jsr215",
        "outputId": "30a871b1-93af-4ac3-fae7-9c32a0dd2924"
      },
      "source": [
        "for i in list(range(tensor_ones.ndim)):\n",
        "    print(f'\\nElements of tensor along {i} axis:',tensor_ones.shape[i])"
      ],
      "execution_count": null,
      "outputs": [
        {
          "output_type": "stream",
          "name": "stdout",
          "text": [
            "\n",
            "Elements of tensor along 0 axis: 3\n",
            "\n",
            "Elements of tensor along 1 axis: 3\n",
            "\n",
            "Elements of tensor along 2 axis: 3\n"
          ]
        }
      ]
    },
    {
      "cell_type": "code",
      "metadata": {
        "colab": {
          "base_uri": "https://localhost:8080/"
        },
        "id": "c4XZpGersAPQ",
        "outputId": "ea036099-8242-4720-a8fc-ae62317dcf30"
      },
      "source": [
        "print('\\nTotal Elements of tensor:',tf.size(tensor_ones).numpy())"
      ],
      "execution_count": null,
      "outputs": [
        {
          "output_type": "stream",
          "name": "stdout",
          "text": [
            "\n",
            "Total Elements of tensor: 27\n"
          ]
        }
      ]
    },
    {
      "cell_type": "markdown",
      "metadata": {
        "id": "ptQuPnQCso3T"
      },
      "source": [
        "### Index slicing with tensors\n",
        "\n",
        "This is very similar to doing it with lists in python"
      ]
    },
    {
      "cell_type": "code",
      "metadata": {
        "colab": {
          "base_uri": "https://localhost:8080/"
        },
        "id": "tuALH09Vsyw6",
        "outputId": "74867c4a-5a5d-43b8-9eba-3298fba55490"
      },
      "source": [
        "print('\\nGet 2nd element from tensors:', tensor_ones[:2,:2,:2])\n",
        "print('\\nIgnoring last dimension', tensor_ones[:2,:2,:])\n",
        "print('\\nLast element from tensor:',tensor_ones[:,:,-1])"
      ],
      "execution_count": 10,
      "outputs": [
        {
          "output_type": "stream",
          "name": "stdout",
          "text": [
            "\n",
            "Get 2nd element from tensors: tf.Tensor(\n",
            "[[[1. 1.]\n",
            "  [1. 1.]]\n",
            "\n",
            " [[1. 1.]\n",
            "  [1. 1.]]], shape=(2, 2, 2), dtype=float32)\n",
            "\n",
            "Ignoring last dimension tf.Tensor(\n",
            "[[[1. 1. 1.]\n",
            "  [1. 1. 1.]]\n",
            "\n",
            " [[1. 1. 1.]\n",
            "  [1. 1. 1.]]], shape=(2, 2, 3), dtype=float32)\n",
            "\n",
            "Last element from tensor: tf.Tensor(\n",
            "[[1. 1. 1.]\n",
            " [1. 1. 1.]\n",
            " [1. 1. 1.]], shape=(3, 3), dtype=float32)\n"
          ]
        }
      ]
    },
    {
      "cell_type": "markdown",
      "metadata": {
        "id": "8Ie_plVTKtZ5"
      },
      "source": [
        "### Adding new axis to tensor\n",
        "\n",
        "First method uses:\n",
        "\n",
        "~~~\n",
        "tensor[...,tf.newaxis]\n",
        "~~~\n",
        "\n",
        "The . represents an axis so similar to \n",
        "~~~\n",
        "[:, :, :]\n",
        "~~~\n",
        "\n",
        "The second method uses:\n",
        "\n",
        "~~~\n",
        "tf.expand_dims(input,axis,name)\n",
        "~~~\n",
        "\n",
        "- input = tensor wanting to exapnd\n",
        "- axis = on which axis (-1 means last axis)\n",
        "- name = str to name tensor, optional"
      ]
    },
    {
      "cell_type": "code",
      "metadata": {
        "colab": {
          "base_uri": "https://localhost:8080/"
        },
        "id": "IKhkA5uCKFfi",
        "outputId": "c66c2e65-82a7-4f4b-c47b-ed016d3bdd55"
      },
      "source": [
        "tensor_2d= tf.constant([[2,4],[2,8]])\n",
        "print(tensor_2d)"
      ],
      "execution_count": 24,
      "outputs": [
        {
          "output_type": "stream",
          "name": "stdout",
          "text": [
            "tf.Tensor(\n",
            "[[2 4]\n",
            " [2 8]], shape=(2, 2), dtype=int32)\n"
          ]
        }
      ]
    },
    {
      "cell_type": "code",
      "metadata": {
        "colab": {
          "base_uri": "https://localhost:8080/"
        },
        "id": "4dX_x0TNLd_K",
        "outputId": "db1c7e39-4c87-4d47-e649-b42cc18f2745"
      },
      "source": [
        "tensor_3d=tensor_2d[...,tf.newaxis]\n",
        "print(tensor_3d)"
      ],
      "execution_count": 25,
      "outputs": [
        {
          "output_type": "stream",
          "name": "stdout",
          "text": [
            "tf.Tensor(\n",
            "[[[2]\n",
            "  [4]]\n",
            "\n",
            " [[2]\n",
            "  [8]]], shape=(2, 2, 1), dtype=int32)\n"
          ]
        }
      ]
    },
    {
      "cell_type": "code",
      "metadata": {
        "colab": {
          "base_uri": "https://localhost:8080/"
        },
        "id": "Y9VoPhbcNBHc",
        "outputId": "203572a6-ed2b-4a06-fbfc-5bdb6d2533b6"
      },
      "source": [
        "tensor_3d_expand_dim = tf.expand_dims(tensor_2d,axis=-1)\n",
        "print(tensor_3d_expand_dim)"
      ],
      "execution_count": 30,
      "outputs": [
        {
          "output_type": "stream",
          "name": "stdout",
          "text": [
            "tf.Tensor(\n",
            "[[[2]\n",
            "  [4]]\n",
            "\n",
            " [[2]\n",
            "  [8]]], shape=(2, 2, 1), dtype=int32)\n"
          ]
        }
      ]
    }
  ]
}